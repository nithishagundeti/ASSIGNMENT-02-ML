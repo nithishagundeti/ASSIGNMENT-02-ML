{
 "cells": [
  {
   "cell_type": "code",
   "execution_count": 1,
   "id": "8525b6fa",
   "metadata": {
    "scrolled": false
   },
   "outputs": [],
   "source": [
    "from matplotlib import pyplot as plt\n",
    "import pandas as pd\n",
    "import numpy as np\n"
   ]
  },
  {
   "cell_type": "code",
   "execution_count": 2,
   "id": "264c7ada",
   "metadata": {},
   "outputs": [],
   "source": [
    "# Read the provided CSV file ‘data.csv’\n",
    "data = pd.read_csv('data.csv')"
   ]
  },
  {
   "cell_type": "code",
   "execution_count": 3,
   "id": "b6933e80",
   "metadata": {},
   "outputs": [
    {
     "name": "stdout",
     "output_type": "stream",
     "text": [
      "         Duration       Pulse    Maxpulse     Calories\n",
      "count  169.000000  169.000000  169.000000   164.000000\n",
      "mean    63.846154  107.461538  134.047337   375.790244\n",
      "std     42.299949   14.510259   16.450434   266.379919\n",
      "min     15.000000   80.000000  100.000000    50.300000\n",
      "25%     45.000000  100.000000  124.000000   250.925000\n",
      "50%     60.000000  105.000000  131.000000   318.600000\n",
      "75%     60.000000  111.000000  141.000000   387.600000\n",
      "max    300.000000  159.000000  184.000000  1860.400000 \n",
      "\n"
     ]
    }
   ],
   "source": [
    "# Show the basic statistical description about the data\n",
    "print(data.describe(), '\\n')"
   ]
  },
  {
   "cell_type": "code",
   "execution_count": 4,
   "id": "c773587c",
   "metadata": {},
   "outputs": [
    {
     "name": "stdout",
     "output_type": "stream",
     "text": [
      "Null values in the data: \n",
      " Duration    0\n",
      "Pulse       0\n",
      "Maxpulse    0\n",
      "Calories    5\n",
      "dtype: int64 \n",
      "\n"
     ]
    }
   ],
   "source": [
    "# Check if the data has null values.\n",
    "print(\"Null values in the data: \\n\", data.isnull().sum(), '\\n')"
   ]
  },
  {
   "cell_type": "code",
   "execution_count": 5,
   "id": "8e92b88b",
   "metadata": {},
   "outputs": [
    {
     "name": "stdout",
     "output_type": "stream",
     "text": [
      "Null values in the data after replacing with mean: \n",
      " Duration    0\n",
      "Pulse       0\n",
      "Maxpulse    0\n",
      "Calories    0\n",
      "dtype: int64 \n",
      "\n",
      "     Duration  Pulse  Maxpulse  Calories\n",
      "0          60    110       130     409.1\n",
      "1          60    117       145     479.0\n",
      "2          60    103       135     340.0\n",
      "3          45    109       175     282.4\n",
      "4          45    117       148     406.0\n",
      "..        ...    ...       ...       ...\n",
      "164        60    105       140     290.8\n",
      "165        60    110       145     300.0\n",
      "166        60    115       145     310.2\n",
      "167        75    120       150     320.4\n",
      "168        75    125       150     330.4\n",
      "\n",
      "[169 rows x 4 columns] \n",
      "\n"
     ]
    }
   ],
   "source": [
    "# a. Replace the null values with the mean\n",
    "data.fillna(data.mean(), inplace=True)\n",
    "print(\"Null values in the data after replacing with mean: \\n\", data.isnull().sum(), '\\n')\n",
    "print(data, '\\n')"
   ]
  },
  {
   "cell_type": "code",
   "execution_count": 6,
   "id": "2f96ce48",
   "metadata": {},
   "outputs": [
    {
     "name": "stdout",
     "output_type": "stream",
     "text": [
      "Aggregating the data using min, max, count, mean: \n",
      "             Pulse     Calories\n",
      "min     80.000000    50.300000\n",
      "max    159.000000  1860.400000\n",
      "count  169.000000   169.000000\n",
      "mean   107.461538   375.790244 \n",
      "\n"
     ]
    }
   ],
   "source": [
    "# Select at least two columns and aggregate the data using: min, max, count, mean\n",
    "# selecting two columns pulse and calories\n",
    "print(\"Aggregating the data using min, max, count, mean: \\n\", data[['Pulse', 'Calories']].agg(['min', 'max', 'count', 'mean']), '\\n')"
   ]
  },
  {
   "cell_type": "code",
   "execution_count": 7,
   "id": "1c2cfdc8",
   "metadata": {},
   "outputs": [
    {
     "name": "stdout",
     "output_type": "stream",
     "text": [
      "Filtering the dataframe to select the rows with calories values between 500 and 1000: \n",
      "      Duration  Pulse  Maxpulse  Calories\n",
      "51         80    123       146     643.1\n",
      "62        160    109       135     853.0\n",
      "65        180     90       130     800.4\n",
      "66        150    105       135     873.4\n",
      "67        150    107       130     816.0\n",
      "72         90    100       127     700.0\n",
      "73        150     97       127     953.2\n",
      "75         90     98       125     563.2\n",
      "78        120    100       130     500.4\n",
      "90        180    101       127     600.1\n",
      "99         90     93       124     604.1\n",
      "103        90     90       100     500.4\n",
      "106       180     90       120     800.3\n",
      "108        90     90       120     500.3 \n",
      "\n"
     ]
    }
   ],
   "source": [
    "# Filter the dataframe to select the rows with calories values between 500 and 1000\n",
    "print(\"Filtering the dataframe to select the rows with calories values between 500 and 1000: \\n\", data[(data['Calories'] > 500) & (data['Calories'] < 1000)], '\\n')"
   ]
  },
  {
   "cell_type": "code",
   "execution_count": 8,
   "id": "537de668",
   "metadata": {},
   "outputs": [
    {
     "name": "stdout",
     "output_type": "stream",
     "text": [
      "Filtering the dataframe to select the rows with calories values > 500 and pulse < 100: \n",
      "      Duration  Pulse  Maxpulse  Calories\n",
      "65        180     90       130     800.4\n",
      "70        150     97       129    1115.0\n",
      "73        150     97       127     953.2\n",
      "75         90     98       125     563.2\n",
      "99         90     93       124     604.1\n",
      "103        90     90       100     500.4\n",
      "106       180     90       120     800.3\n",
      "108        90     90       120     500.3 \n",
      "\n"
     ]
    }
   ],
   "source": [
    "# Filter the dataframe to select the rows with calories values > 500 and pulse < 100\n",
    "print(\"Filtering the dataframe to select the rows with calories values > 500 and pulse < 100: \\n\", data[(data['Calories'] > 500) & (data['Pulse'] < 100)], '\\n')"
   ]
  },
  {
   "cell_type": "code",
   "execution_count": 9,
   "id": "993038ea",
   "metadata": {},
   "outputs": [
    {
     "name": "stdout",
     "output_type": "stream",
     "text": [
      "New dataframe after dropping Maxpulse column: \n",
      "      Duration  Pulse  Calories\n",
      "0          60    110     409.1\n",
      "1          60    117     479.0\n",
      "2          60    103     340.0\n",
      "3          45    109     282.4\n",
      "4          45    117     406.0\n",
      "..        ...    ...       ...\n",
      "164        60    105     290.8\n",
      "165        60    110     300.0\n",
      "166        60    115     310.2\n",
      "167        75    120     320.4\n",
      "168        75    125     330.4\n",
      "\n",
      "[169 rows x 3 columns] \n",
      "\n"
     ]
    }
   ],
   "source": [
    "# Create a new “df_modified” dataframe that contains all the columns from df except for “Maxpulse”\n",
    "df_modified = data.drop('Maxpulse', axis=1)\n",
    "print(\"New dataframe after dropping Maxpulse column: \\n\", df_modified, '\\n')\n"
   ]
  },
  {
   "cell_type": "code",
   "execution_count": 10,
   "id": "b0c659a5",
   "metadata": {},
   "outputs": [
    {
     "name": "stdout",
     "output_type": "stream",
     "text": [
      "Dataframe after dropping Maxpulse column: \n",
      "      Duration  Pulse  Calories\n",
      "0          60    110     409.1\n",
      "1          60    117     479.0\n",
      "2          60    103     340.0\n",
      "3          45    109     282.4\n",
      "4          45    117     406.0\n",
      "..        ...    ...       ...\n",
      "164        60    105     290.8\n",
      "165        60    110     300.0\n",
      "166        60    115     310.2\n",
      "167        75    120     320.4\n",
      "168        75    125     330.4\n",
      "\n",
      "[169 rows x 3 columns] \n",
      "\n"
     ]
    }
   ],
   "source": [
    "# Delete the “Maxpulse” column from the main df dataframe\n",
    "data.drop('Maxpulse', axis=1, inplace=True)\n",
    "print(\"Dataframe after dropping Maxpulse column: \\n\", data, '\\n')"
   ]
  },
  {
   "cell_type": "code",
   "execution_count": 11,
   "id": "d183dfe3",
   "metadata": {},
   "outputs": [
    {
     "name": "stdout",
     "output_type": "stream",
     "text": [
      "Data types of all columns after converting Calories to int: \n",
      " Duration    int64\n",
      "Pulse       int64\n",
      "Calories    int64\n",
      "dtype: object \n",
      "\n"
     ]
    }
   ],
   "source": [
    "# Convert the datatype of Calories column to int datatype\n",
    "data['Calories'] = data['Calories'].astype(int)\n",
    "print(\"Data types of all columns after converting Calories to int: \\n\", data.dtypes, '\\n')\n"
   ]
  },
  {
   "cell_type": "code",
   "execution_count": 12,
   "id": "e3340556",
   "metadata": {},
   "outputs": [
    {
     "data": {
      "image/png": "[encoded data removed]",
      "text/plain": [
       "<Figure size 640x480 with 1 Axes>"
      ]
     },
     "metadata": {},
     "output_type": "display_data"
    }
   ],
   "source": [
    "# Using pandas create a scatter plot for the two columns (Duration and Calories)\n",
    "data.plot.scatter(x='Duration', y='Calories', title='Scatter plot for Duration and Calories')\n",
    "plt.show()"
   ]
  },
  {
   "cell_type": "code",
   "execution_count": null,
   "id": "a6519989",
   "metadata": {},
   "outputs": [],
   "source": []
  },
  {
   "cell_type": "code",
   "execution_count": null,
   "id": "1993d93c",
   "metadata": {},
   "outputs": [],
   "source": []
  }
 ],
 "metadata": {
  "kernelspec": {
   "display_name": "Python 3 (ipykernel)",
   "language": "python",
   "name": "python3"
  },
  "language_info": {
   "codemirror_mode": {
    "name": "ipython",
    "version": 3
   },
   "file_extension": ".py",
   "mimetype": "text/x-python",
   "name": "python",
   "nbconvert_exporter": "python",
   "pygments_lexer": "ipython3",
   "version": "3.10.7"
  }
 },
 "nbformat": 4,
 "nbformat_minor": 5
}
